{
 "cells": [
  {
   "cell_type": "code",
   "execution_count": 1,
   "metadata": {},
   "outputs": [
    {
     "data": {
      "text/html": [
       "<style>.container { width:95% !important; }</style>"
      ],
      "text/plain": [
       "<IPython.core.display.HTML object>"
      ]
     },
     "metadata": {},
     "output_type": "display_data"
    }
   ],
   "source": [
    "%load_ext autoreload\n",
    "%autoreload 2\n",
    "\n",
    "%matplotlib inline\n",
    "%config InlineBackend.figure_format = 'retina'\n",
    "\n",
    "from IPython.core.display import display, HTML\n",
    "display(HTML(\"<style>.container { width:95% !important; }</style>\"))"
   ]
  },
  {
   "cell_type": "code",
   "execution_count": 40,
   "metadata": {},
   "outputs": [
    {
     "name": "stdout",
     "output_type": "stream",
     "text": [
      "This is Tokyo !\r\n",
      "Japanese food is delicious .\r\n"
     ]
    }
   ],
   "source": [
    "!echo \"This is Tokyo !\" > tmp.txt\n",
    "!echo \"Japanese food is delicious .\" >> tmp.txt\n",
    "!cat tmp.txt"
   ]
  },
  {
   "cell_type": "markdown",
   "metadata": {},
   "source": [
    "# Read data"
   ]
  },
  {
   "cell_type": "code",
   "execution_count": 44,
   "metadata": {},
   "outputs": [],
   "source": [
    "from allennlp.data.dataset_readers.simple_language_modeling import SimpleLanguageModelingDatasetReader\n",
    "from allennlp.data.tokenizers.word_splitter import JustSpacesWordSplitter\n",
    "from allennlp.data.tokenizers.word_tokenizer import WordTokenizer\n",
    "from allennlp.data.token_indexers.single_id_token_indexer import SingleIdTokenIndexer\n",
    "from allennlp.data.token_indexers.elmo_indexer import ELMoTokenCharactersIndexer\n",
    "\n",
    "indexers = {\"tokens\": SingleIdTokenIndexer(),\n",
    "            \"token_characters\": ELMoTokenCharactersIndexer()}\n",
    "reader = SimpleLanguageModelingDatasetReader(tokenizer=WordTokenizer(JustSpacesWordSplitter()), \n",
    "                                             token_indexers=indexers, \n",
    "                                             max_sequence_length=400, \n",
    "                                             start_tokens=[\"<S>\"], \n",
    "                                             end_tokens=[\"</S>\"])"
   ]
  },
  {
   "cell_type": "code",
   "execution_count": 45,
   "metadata": {},
   "outputs": [],
   "source": [
    "dataset = reader.read(\"tmp.txt\")"
   ]
  },
  {
   "cell_type": "code",
   "execution_count": 49,
   "metadata": {},
   "outputs": [
    {
     "name": "stdout",
     "output_type": "stream",
     "text": [
      "Instance with fields:\n",
      " \t source: TextField of length 6 with text: \n",
      " \t\t[<S>, This, is, Tokyo, !, </S>]\n",
      " \t\tand TokenIndexers : {'tokens': 'SingleIdTokenIndexer', 'token_characters': 'ELMoTokenCharactersIndexer'} \n",
      "\n"
     ]
    },
    {
     "ename": "AttributeError",
     "evalue": "'Instance' object has no attribute 'num_tokens'",
     "output_type": "error",
     "traceback": [
      "\u001b[0;31m---------------------------------------------------------------------------\u001b[0m",
      "\u001b[0;31mAttributeError\u001b[0m                            Traceback (most recent call last)",
      "\u001b[0;32m<ipython-input-49-8da442d36a65>\u001b[0m in \u001b[0;36m<module>\u001b[0;34m\u001b[0m\n\u001b[1;32m      1\u001b[0m \u001b[0;32mfor\u001b[0m \u001b[0mi\u001b[0m \u001b[0;32min\u001b[0m \u001b[0mdataset\u001b[0m\u001b[0;34m:\u001b[0m\u001b[0;34m\u001b[0m\u001b[0;34m\u001b[0m\u001b[0m\n\u001b[1;32m      2\u001b[0m     \u001b[0mprint\u001b[0m\u001b[0;34m(\u001b[0m\u001b[0mi\u001b[0m\u001b[0;34m)\u001b[0m\u001b[0;34m\u001b[0m\u001b[0;34m\u001b[0m\u001b[0m\n\u001b[0;32m----> 3\u001b[0;31m     \u001b[0mprint\u001b[0m\u001b[0;34m(\u001b[0m\u001b[0mi\u001b[0m\u001b[0;34m.\u001b[0m\u001b[0mnum_tokens\u001b[0m\u001b[0;34m)\u001b[0m\u001b[0;34m\u001b[0m\u001b[0;34m\u001b[0m\u001b[0m\n\u001b[0m",
      "\u001b[0;31mAttributeError\u001b[0m: 'Instance' object has no attribute 'num_tokens'"
     ]
    }
   ],
   "source": [
    "for i in dataset:\n",
    "    print(i)\n",
    "    print(inum_tokens)"
   ]
  },
  {
   "cell_type": "markdown",
   "metadata": {},
   "source": [
    "# Setup data iterator"
   ]
  },
  {
   "cell_type": "code",
   "execution_count": 64,
   "metadata": {},
   "outputs": [],
   "source": [
    "from allennlp.data.iterators.bucket_iterator import BucketIterator\n",
    "from allennlp.common import Params"
   ]
  },
  {
   "cell_type": "code",
   "execution_count": null,
   "metadata": {},
   "outputs": [],
   "source": [
    "bucket_iterator = BucketIterator(sorting_keys=[[\"source\", \"num_tokens\"]], \n",
    "                                 batch_size=512, \n",
    "                                 maximum_samples_per_batch=[\"num_tokens\", 2000])\n"
   ]
  },
  {
   "cell_type": "code",
   "execution_count": 55,
   "metadata": {},
   "outputs": [],
   "source": [
    "from allennlp.data.vocabulary import Vocabulary"
   ]
  },
  {
   "cell_type": "markdown",
   "metadata": {},
   "source": [
    "# Prepare vocab"
   ]
  },
  {
   "cell_type": "code",
   "execution_count": 76,
   "metadata": {},
   "outputs": [
    {
     "name": "stdout",
     "output_type": "stream",
     "text": [
      "==> vocabs/non_padded_namespaces.txt <==\r\n",
      "*labels\r\n",
      "*tags\r\n",
      "\r\n",
      "==> vocabs/tokens.txt <==\r\n",
      "</S>\r\n",
      "<S>\r\n",
      "@@UNKNOWN@@\r\n",
      "the\r\n",
      ",\r\n",
      ".\r\n",
      "to\r\n",
      "of\r\n",
      "and\r\n",
      "a\r\n"
     ]
    }
   ],
   "source": [
    "!head vocabs/*"
   ]
  },
  {
   "cell_type": "code",
   "execution_count": 74,
   "metadata": {},
   "outputs": [],
   "source": [
    "# !cp non_padded_namespaces.txt vocabs/\n",
    "# !cp tokens.txt vocabs/"
   ]
  },
  {
   "cell_type": "code",
   "execution_count": 75,
   "metadata": {},
   "outputs": [],
   "source": [
    "vocab = Vocabulary.from_params(Params(params={\"directory_path\": \"./vocabs\"}))"
   ]
  },
  {
   "cell_type": "markdown",
   "metadata": {},
   "source": [
    "# Prepare model"
   ]
  },
  {
   "cell_type": "code",
   "execution_count": 94,
   "metadata": {},
   "outputs": [],
   "source": [
    "from allennlp.models.language_model import LanguageModel\n",
    "from allennlp.modules.seq2seq_encoders.bidirectional_language_model_transformer import BidirectionalLanguageModelTransformer\n",
    "from allennlp.modules.text_field_embedders.basic_text_field_embedder import BasicTextFieldEmbedder\n",
    "from allennlp.modules.token_embedders.token_characters_encoder import TokenCharactersEncoder\n",
    "from allennlp.modules.token_embedders.embedding import Embedding\n",
    "from allennlp.modules.seq2vec_encoders.cnn_highway_encoder import CnnHighwayEncoder"
   ]
  },
  {
   "cell_type": "code",
   "execution_count": 95,
   "metadata": {},
   "outputs": [],
   "source": [
    "embedding = Embedding(num_embeddings=2612, embedding_dim=16)\n",
    "filters = [\n",
    "    [1, 32],\n",
    "    [2, 32],\n",
    "    [3, 64],\n",
    "    [4, 128],\n",
    "    [5, 256],\n",
    "    [6, 512],\n",
    "    [7, 1024]]\n",
    "\n",
    "encoder = CnnHighwayEncoder(activation=\"relu\", \n",
    "                            embedding_dim=16, \n",
    "                            filters=filters, \n",
    "                            num_highway=2, \n",
    "                            projection_dim=512, \n",
    "                            projection_location=\"after_highway\", \n",
    "                            do_layer_norm=True)\n",
    "\n",
    "character_embedder = TokenCharactersEncoder(embedding=embedding, encoder=encoder)\n",
    "token_embedders = {\"token_characters\": character_embedder}\n",
    "text_field_embedder = BasicTextFieldEmbedder(allow_unmatched_keys=True, token_embedders=token_embedders)"
   ]
  },
  {
   "cell_type": "code",
   "execution_count": 98,
   "metadata": {},
   "outputs": [],
   "source": [
    "contextualizer = BidirectionalLanguageModelTransformer(input_dim=512, \n",
    "                                                       hidden_dim=2048, \n",
    "                                                       num_layers=1, \n",
    "                                                       dropout=0.1, \n",
    "                                                       input_dropout=0.1)\n",
    "\n",
    "model = LanguageModel(vocab=vocab, \n",
    "                      text_field_embedder=text_field_embedder, \n",
    "                      contextualizer=contextualizer, \n",
    "                      bidirectional=True, \n",
    "                      num_samples=8192, \n",
    "                      sparse_embeddings=True, \n",
    "                      dropout=0.2)"
   ]
  },
  {
   "cell_type": "code",
   "execution_count": 99,
   "metadata": {},
   "outputs": [
    {
     "name": "stdout",
     "output_type": "stream",
     "text": [
      "LanguageModel(\n",
      "  (_text_field_embedder): BasicTextFieldEmbedder(\n",
      "    (token_embedder_token_characters): TokenCharactersEncoder(\n",
      "      (_embedding): TimeDistributed(\n",
      "        (_module): Embedding()\n",
      "      )\n",
      "      (_encoder): TimeDistributed(\n",
      "        (_module): CnnHighwayEncoder(\n",
      "          (char_conv_0): Conv1d(16, 32, kernel_size=(1,), stride=(1,))\n",
      "          (char_conv_1): Conv1d(16, 32, kernel_size=(2,), stride=(1,))\n",
      "          (char_conv_2): Conv1d(16, 64, kernel_size=(3,), stride=(1,))\n",
      "          (char_conv_3): Conv1d(16, 128, kernel_size=(4,), stride=(1,))\n",
      "          (char_conv_4): Conv1d(16, 256, kernel_size=(5,), stride=(1,))\n",
      "          (char_conv_5): Conv1d(16, 512, kernel_size=(6,), stride=(1,))\n",
      "          (char_conv_6): Conv1d(16, 1024, kernel_size=(7,), stride=(1,))\n",
      "          (_highways): Highway(\n",
      "            (_layers): ModuleList(\n",
      "              (0): Linear(in_features=2048, out_features=4096, bias=True)\n",
      "              (1): Linear(in_features=2048, out_features=4096, bias=True)\n",
      "            )\n",
      "          )\n",
      "          (_projection): Linear(in_features=2048, out_features=512, bias=True)\n",
      "          (_layer_norm): LayerNorm()\n",
      "        )\n",
      "      )\n",
      "    )\n",
      "  )\n",
      "  (_contextualizer): BidirectionalLanguageModelTransformer(\n",
      "    (_forward_transformer): TransformerEncoder(\n",
      "      (layers): ModuleList(\n",
      "        (0): EncoderLayer(\n",
      "          (self_attn): MultiHeadedAttention(\n",
      "            (linears): ModuleList(\n",
      "              (0): Linear(in_features=512, out_features=512, bias=True)\n",
      "              (1): Linear(in_features=512, out_features=512, bias=True)\n",
      "              (2): Linear(in_features=512, out_features=512, bias=True)\n",
      "              (3): Linear(in_features=512, out_features=512, bias=True)\n",
      "            )\n",
      "            (dropout): Dropout(p=0.1, inplace=False)\n",
      "          )\n",
      "          (feed_forward): PositionwiseFeedForward(\n",
      "            (w_1): Linear(in_features=512, out_features=2048, bias=True)\n",
      "            (w_2): Linear(in_features=2048, out_features=512, bias=True)\n",
      "            (dropout): Dropout(p=0.1, inplace=False)\n",
      "          )\n",
      "          (sublayer): ModuleList(\n",
      "            (0): SublayerConnection(\n",
      "              (norm): LayerNorm()\n",
      "              (dropout): Dropout(p=0.1, inplace=False)\n",
      "            )\n",
      "            (1): SublayerConnection(\n",
      "              (norm): LayerNorm()\n",
      "              (dropout): Dropout(p=0.1, inplace=False)\n",
      "            )\n",
      "          )\n",
      "        )\n",
      "      )\n",
      "      (norm): LayerNorm()\n",
      "    )\n",
      "    (_backward_transformer): TransformerEncoder(\n",
      "      (layers): ModuleList(\n",
      "        (0): EncoderLayer(\n",
      "          (self_attn): MultiHeadedAttention(\n",
      "            (linears): ModuleList(\n",
      "              (0): Linear(in_features=512, out_features=512, bias=True)\n",
      "              (1): Linear(in_features=512, out_features=512, bias=True)\n",
      "              (2): Linear(in_features=512, out_features=512, bias=True)\n",
      "              (3): Linear(in_features=512, out_features=512, bias=True)\n",
      "            )\n",
      "            (dropout): Dropout(p=0.1, inplace=False)\n",
      "          )\n",
      "          (feed_forward): PositionwiseFeedForward(\n",
      "            (w_1): Linear(in_features=512, out_features=2048, bias=True)\n",
      "            (w_2): Linear(in_features=2048, out_features=512, bias=True)\n",
      "            (dropout): Dropout(p=0.1, inplace=False)\n",
      "          )\n",
      "          (sublayer): ModuleList(\n",
      "            (0): SublayerConnection(\n",
      "              (norm): LayerNorm()\n",
      "              (dropout): Dropout(p=0.1, inplace=False)\n",
      "            )\n",
      "            (1): SublayerConnection(\n",
      "              (norm): LayerNorm()\n",
      "              (dropout): Dropout(p=0.1, inplace=False)\n",
      "            )\n",
      "          )\n",
      "        )\n",
      "      )\n",
      "      (norm): LayerNorm()\n",
      "    )\n",
      "    (_position): PositionalEncoding()\n",
      "    (_dropout): Dropout(p=0.1, inplace=False)\n",
      "  )\n",
      "  (_softmax_loss): SampledSoftmaxLoss(\n",
      "    (softmax_w): Embedding(793472, 512, sparse=True)\n",
      "    (softmax_b): Embedding(793472, 1, sparse=True)\n",
      "  )\n",
      "  (_dropout): Dropout(p=0.2, inplace=False)\n",
      ")\n"
     ]
    }
   ],
   "source": [
    "print(model)"
   ]
  },
  {
   "cell_type": "code",
   "execution_count": null,
   "metadata": {},
   "outputs": [],
   "source": []
  }
 ],
 "metadata": {
  "kernelspec": {
   "display_name": "Python3 (base)",
   "language": "python",
   "name": "base"
  },
  "language_info": {
   "codemirror_mode": {
    "name": "ipython",
    "version": 3
   },
   "file_extension": ".py",
   "mimetype": "text/x-python",
   "name": "python",
   "nbconvert_exporter": "python",
   "pygments_lexer": "ipython3",
   "version": "3.7.3"
  }
 },
 "nbformat": 4,
 "nbformat_minor": 2
}
